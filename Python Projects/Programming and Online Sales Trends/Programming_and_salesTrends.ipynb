{
 "cells": [
  {
   "cell_type": "markdown",
   "id": "e0cf26a4-063e-47cf-8e7c-4aa1546ebede",
   "metadata": {
    "tags": []
   },
   "source": [
    "Question 1a: \n",
    "Given the string 'great', use an appropriate index command that returns 'a'\n",
    "from the string. Given s = ‘great’. (0.5 point)\n",
    "Expected output: ‘a’"
   ]
  },
  {
   "cell_type": "code",
   "execution_count": 60,
   "id": "f8a849ff-0a15-487e-9ba9-9206a0387e51",
   "metadata": {},
   "outputs": [
    {
     "name": "stdout",
     "output_type": "stream",
     "text": [
      "Expected output: a\n"
     ]
    }
   ],
   "source": [
    "s = 'great'\n",
    "print(\"Expected output: \" + s[3])"
   ]
  },
  {
   "cell_type": "markdown",
   "id": "0d6fbd79-fd43-4647-81be-cc83f91bd2c4",
   "metadata": {},
   "source": [
    "Question 1b:\n",
    "Write a program to find out the second smallest number in the list given\n",
    "below. (0.5 point)\n",
    "li=[32, 3, 5, 8, 33, 7] & Expected output: 5"
   ]
  },
  {
   "cell_type": "code",
   "execution_count": 61,
   "id": "8571b5a2-3a3f-433e-85e8-e10097d41665",
   "metadata": {},
   "outputs": [
    {
     "name": "stdout",
     "output_type": "stream",
     "text": [
      "5\n"
     ]
    }
   ],
   "source": [
    "li=[32, 3, 5, 8, 33, 7]\n",
    "li.sort()\n",
    "print(li[1])"
   ]
  },
  {
   "cell_type": "markdown",
   "id": "2a48a794-635c-4803-8b76-3d1805a74149",
   "metadata": {},
   "source": [
    "Question 1c: Find out the unique values of the list given below. (0.5 point)\n",
    "mylist=[1,1,5,3,3,6,11,11] & Expected output: [1,5,3,6,11]"
   ]
  },
  {
   "cell_type": "code",
   "execution_count": 62,
   "id": "c03de270-264b-43f6-bf6c-3b8565a2a3eb",
   "metadata": {},
   "outputs": [
    {
     "name": "stdout",
     "output_type": "stream",
     "text": [
      "[1, 5, 3, 6, 11]\n"
     ]
    }
   ],
   "source": [
    "mylist=[1,1,5,3,3,6,11,11]\n",
    "uniquelist = []\n",
    "for n in mylist:\n",
    "    if n not in uniquelist:\n",
    "        uniquelist.append(n)\n",
    "print(uniquelist)"
   ]
  },
  {
   "cell_type": "markdown",
   "id": "6c9a4015-3755-45e1-805d-579c9e1d6f42",
   "metadata": {},
   "source": [
    "Question 1d:\n",
    "Write a program to print cube root of 216 using appropriate syntax. (0.5\n",
    "point)\n",
    "Expected output: 6"
   ]
  },
  {
   "cell_type": "code",
   "execution_count": 63,
   "id": "ee08a695-98ab-480b-9f1f-f0d35aa9abd2",
   "metadata": {},
   "outputs": [
    {
     "name": "stdout",
     "output_type": "stream",
     "text": [
      "6.0\n"
     ]
    }
   ],
   "source": [
    "import numpy as np\n",
    "n = 216\n",
    "croot = np.cbrt(n)\n",
    "print(croot)"
   ]
  },
  {
   "cell_type": "markdown",
   "id": "73e421af-9a9b-4ed0-b096-97151d0688b6",
   "metadata": {},
   "source": [
    "Question 2:\n",
    " Replace the value 'hello' in the below nested list with 'bye'. (1 point)\n",
    " a = [1, 2, [3, 4, 'hello']] & Expected output: [1, 2, [3, 4, 'bye']]"
   ]
  },
  {
   "cell_type": "code",
   "execution_count": 64,
   "id": "e62182eb-6306-4bcb-b61e-8dd5479f9784",
   "metadata": {},
   "outputs": [
    {
     "name": "stdout",
     "output_type": "stream",
     "text": [
      "[1, 2, [3, 4, 'bye']]\n"
     ]
    }
   ],
   "source": [
    "a = [1, 2, [3, 4, 'hello']]\n",
    "a[2][2] = 'bye'\n",
    "print(a)"
   ]
  },
  {
   "cell_type": "markdown",
   "id": "26949ad3-22fd-49fa-b478-a44bc2a08ffc",
   "metadata": {},
   "source": [
    "Question 3:\n",
    "Given the below dictionary, write a program that returns [‘object0’]. (1 point)\n",
    "dict = {'a':9, 'b':(2,3,1), 'c':['object0','object1','object2']}\n",
    "Expected output: [‘object0’]"
   ]
  },
  {
   "cell_type": "code",
   "execution_count": 65,
   "id": "ef21fd57-c7ba-4559-95f9-f3a26175a1dc",
   "metadata": {},
   "outputs": [
    {
     "name": "stdout",
     "output_type": "stream",
     "text": [
      "object0\n"
     ]
    }
   ],
   "source": [
    "dict = {'a':9, 'b':(2,3,1), 'c':['object0','object1','object2']}\n",
    "answer = dict['c'][0]\n",
    "print(answer)"
   ]
  },
  {
   "cell_type": "markdown",
   "id": "1e51cd68-517a-4e7d-8cb7-93f8474bbe12",
   "metadata": {},
   "source": [
    "Question 4:\n",
    "Write a program to calculate the area of a circle. The program should ask for an\n",
    "appropriate input and print the computed area. (2 points)\n",
    "a: Input text: Please enter the radius of the circle.\n",
    "b. If the user enters a value of 5. The output should be: The area of the circle\n",
    "is 78.54\n",
    "c. This program should indicate that the input is invalid if the user enters a\n",
    "character instead of a number as input. For instance if the user enters a\n",
    "value of ‘a’ instead of 5 in the previous example the program should\n",
    "prompt: Invalid input, please enter a number: _"
   ]
  },
  {
   "cell_type": "code",
   "execution_count": 67,
   "id": "a3d57e00-efb9-45a7-b4c8-346039aba3b1",
   "metadata": {
    "tags": []
   },
   "outputs": [
    {
     "name": "stdout",
     "output_type": "stream",
     "text": [
      "Please enter the radius of the circle. \n",
      "h\n",
      "Invalid input, please enter a number: _\n",
      "5\n",
      "The area of the circle is 78.54\n"
     ]
    }
   ],
   "source": [
    "import math\n",
    "print(\"Please enter the radius of the circle. \")\n",
    "while True:\n",
    "    try:\n",
    "        radius = float(input())\n",
    "        break\n",
    "    except ValueError:\n",
    "        radius = print(\"Invalid input, please enter a number: _\")\n",
    "\n",
    "\n",
    "print(\"The area of the circle is \" + str(round(math.pi * (radius**2),2)))"
   ]
  },
  {
   "cell_type": "markdown",
   "id": "0f246e90-30e3-4948-a670-666818ee29c6",
   "metadata": {},
   "source": [
    "Question 5:\n",
    "Write a program which will take two lists X & Y as input and it will return a list\n",
    "having all the odd numbers present in the two lists. (Note:- common elements\n",
    "can be repeated) (2 points)\n",
    "Input list: X=[1,2,3,4,5] & Y=[5,6,7,8,9]\n",
    "Expected Output: [1,3,5,5,7,9] or [1,3,5,7,9] both are accepted."
   ]
  },
  {
   "cell_type": "code",
   "execution_count": 68,
   "id": "80e6982e-66db-4d79-af6d-49419461ceab",
   "metadata": {},
   "outputs": [
    {
     "name": "stdout",
     "output_type": "stream",
     "text": [
      "[1, 3, 5, 5, 7, 9]\n"
     ]
    }
   ],
   "source": [
    "def oddnum(X,Y):\n",
    "    odds = []\n",
    "    X.extend(Y)\n",
    "    for x in X:\n",
    "        if x%2 != 0:\n",
    "            odds.append(x)\n",
    "    return odds\n",
    "\n",
    "X=[1,2,3,4,5]\n",
    "Y=[5,6,7,8,9]\n",
    "odds_list = oddnum(X,Y)\n",
    "print(odds_list)"
   ]
  },
  {
   "cell_type": "markdown",
   "id": "57eb5186-1989-414b-9841-a2c15c906027",
   "metadata": {},
   "source": [
    "Question 6:\n",
    "Write a function that prints the integers from 1 to 15. But for multiples of three\n",
    "print \"GREAT\" instead of the number, and for the multiples of five print\n",
    "\"LEARNING\". For numbers which are multiples of both three and five print\n",
    "\"GREATLEARNING\". (2 points)"
   ]
  },
  {
   "cell_type": "code",
   "execution_count": 69,
   "id": "bad079a4-1dfd-45f0-aab0-0114981c469b",
   "metadata": {},
   "outputs": [
    {
     "name": "stdout",
     "output_type": "stream",
     "text": [
      "1\n",
      "2\n",
      "GREAT\n",
      "4\n",
      "LEARNING\n",
      "GREAT\n",
      "7\n",
      "8\n",
      "GREAT\n",
      "LEARNING\n",
      "11\n",
      "GREAT\n",
      "13\n",
      "14\n",
      "GREATLEARNING\n"
     ]
    }
   ],
   "source": [
    "def foobar():\n",
    "    for i in range(1,16):\n",
    "        if i%3 == 0 and i%5 == 0:\n",
    "            print(\"GREATLEARNING\")\n",
    "        elif i%3 == 0:\n",
    "            print(\"GREAT\")\n",
    "        elif i%5 == 0:\n",
    "            print(\"LEARNING\")\n",
    "        else:\n",
    "            print(i)\n",
    "foobar()"
   ]
  },
  {
   "cell_type": "markdown",
   "id": "50ebb063",
   "metadata": {},
   "source": [
    "# Part 2"
   ]
  },
  {
   "cell_type": "markdown",
   "id": "2303b4c7",
   "metadata": {},
   "source": [
    "##### 1. Import necessary libraries and read the provided dataset (online_sales.csv) and check the top 5 and random 5 samples of the dataframe. (0.5 point)"
   ]
  },
  {
   "cell_type": "code",
   "execution_count": 57,
   "id": "114978d0",
   "metadata": {},
   "outputs": [
    {
     "name": "stdout",
     "output_type": "stream",
     "text": [
      "  InvoiceNo StockCode                          Description  Quantity  \\\n",
      "0    536365    85123A   WHITE HANGING HEART T-LIGHT HOLDER         6   \n",
      "1    536365     71053                  WHITE METAL LANTERN         6   \n",
      "2    536365    84406B       CREAM CUPID HEARTS COAT HANGER         8   \n",
      "3    536365    84029G  KNITTED UNION FLAG HOT WATER BOTTLE         6   \n",
      "4    536365    84029E       RED WOOLLY HOTTIE WHITE HEART.         6   \n",
      "\n",
      "    InvoiceDate  UnitPrice  CustomerID         Country  \n",
      "0  12/1/10 8:26       2.55     17850.0  United Kingdom  \n",
      "1  12/1/10 8:26       3.39     17850.0  United Kingdom  \n",
      "2  12/1/10 8:26       2.75     17850.0  United Kingdom  \n",
      "3  12/1/10 8:26       3.39     17850.0  United Kingdom  \n",
      "4  12/1/10 8:26       3.39     17850.0  United Kingdom  \n"
     ]
    }
   ],
   "source": [
    "import pandas as pd\n",
    "import numpy as np\n",
    "df = pd.read_csv(\"online_sales.csv\")\n",
    "print(df.head(5))"
   ]
  },
  {
   "cell_type": "code",
   "execution_count": 58,
   "id": "ffdb983e",
   "metadata": {},
   "outputs": [
    {
     "name": "stdout",
     "output_type": "stream",
     "text": [
      "       InvoiceNo StockCode                    Description  Quantity  \\\n",
      "150491    549440     22570       FELTCRAFT CUSHION RABBIT         4   \n",
      "10534     537237     22501     PICNIC BASKET WICKER LARGE         1   \n",
      "43615     540098     22276  WASH BAG VINTAGE ROSE PAISLEY         1   \n",
      "182318    552537    35598B      BLACK CHRISTMAS TREE 60CM         2   \n",
      "77935     542794     20719         WOODLAND CHARLOTTE BAG         1   \n",
      "\n",
      "          InvoiceDate  UnitPrice  CustomerID         Country  \n",
      "150491   4/8/11 12:42       3.75     17162.0  United Kingdom  \n",
      "10534    12/6/10 9:58      21.23         NaN  United Kingdom  \n",
      "43615    1/4/11 15:50       2.55     16241.0  United Kingdom  \n",
      "182318  5/10/11 10:11       2.95     17315.0  United Kingdom  \n",
      "77935    2/1/11 10:56       1.63         NaN  United Kingdom  \n"
     ]
    }
   ],
   "source": [
    "print(df.sample(5))"
   ]
  },
  {
   "cell_type": "markdown",
   "id": "165798c8",
   "metadata": {},
   "source": [
    "##### 2. Check info of the dataframe and write your observations. Comment on data types and shape of the dataset. (0.5 point)"
   ]
  },
  {
   "cell_type": "code",
   "execution_count": 59,
   "id": "df2c175d",
   "metadata": {},
   "outputs": [
    {
     "name": "stdout",
     "output_type": "stream",
     "text": [
      "<class 'pandas.core.frame.DataFrame'>\n",
      "RangeIndex: 240007 entries, 0 to 240006\n",
      "Data columns (total 8 columns):\n",
      " #   Column       Non-Null Count   Dtype  \n",
      "---  ------       --------------   -----  \n",
      " 0   InvoiceNo    240007 non-null  object \n",
      " 1   StockCode    240007 non-null  object \n",
      " 2   Description  239106 non-null  object \n",
      " 3   Quantity     240007 non-null  int64  \n",
      " 4   InvoiceDate  240007 non-null  object \n",
      " 5   UnitPrice    240007 non-null  float64\n",
      " 6   CustomerID   172782 non-null  float64\n",
      " 7   Country      240007 non-null  object \n",
      "dtypes: float64(2), int64(1), object(5)\n",
      "memory usage: 14.6+ MB\n",
      "None\n"
     ]
    }
   ],
   "source": [
    "print(df.info())"
   ]
  },
  {
   "cell_type": "markdown",
   "id": "66133ee9",
   "metadata": {},
   "source": [
    "Comments:\n",
    "There are 2 float64 dtypes, 2 int64, and 5 objects\n",
    "The shape of the dataset is of 8 columns and 240007 rows"
   ]
  },
  {
   "cell_type": "markdown",
   "id": "1874463c",
   "metadata": {},
   "source": [
    "##### 3. Check for null values and report the percentage of null values of each column. And drop the rows having null values in it. (1 point)"
   ]
  },
  {
   "cell_type": "code",
   "execution_count": 4,
   "id": "525fbac3",
   "metadata": {},
   "outputs": [
    {
     "name": "stdout",
     "output_type": "stream",
     "text": [
      "The percentage of null values in InvoiceNo = 0.0\n",
      "The percentage of null values in StockCode = 0.0\n",
      "The percentage of null values in Description = 0.37540571733324446\n",
      "The percentage of null values in Quantity = 0.0\n",
      "The percentage of null values in InvoiceDate = 0.0\n",
      "The percentage of null values in UnitPrice = 0.0\n",
      "The percentage of null values in CustomerID = 28.009599720008165\n",
      "The percentage of null values in Country = 0.0\n",
      "Dropping rows with null values...\n"
     ]
    }
   ],
   "source": [
    "for column in df:\n",
    "    sumofnan = df[column].isnull().sum()\n",
    "    print(\"The percentage of null values in \" + column + \" = \" + str((sumofnan/len(df.index))*100))\n",
    "print(\"Dropping rows with null values...\")\n",
    "df = df.dropna()"
   ]
  },
  {
   "cell_type": "markdown",
   "id": "53ff11ee",
   "metadata": {},
   "source": [
    "##### 4. Check the statistical summary of the dataset. (Use inbuilt functions) (0.5 point)"
   ]
  },
  {
   "cell_type": "code",
   "execution_count": 5,
   "id": "2b197c0c",
   "metadata": {},
   "outputs": [
    {
     "name": "stdout",
     "output_type": "stream",
     "text": [
      "            Quantity      UnitPrice     CustomerID\n",
      "count  172782.000000  172782.000000  172782.000000\n",
      "mean       12.244835       3.793566   15274.819941\n",
      "std       257.898235     101.069930    1725.093177\n",
      "min    -74215.000000       0.000000   12346.000000\n",
      "25%         2.000000       1.250000   13842.000000\n",
      "50%         5.000000       1.950000   15132.000000\n",
      "75%        12.000000       3.750000   16814.000000\n",
      "max     74215.000000   38970.000000   18287.000000\n"
     ]
    }
   ],
   "source": [
    "print(df.describe())"
   ]
  },
  {
   "cell_type": "markdown",
   "id": "0fb7ef9e",
   "metadata": {},
   "source": [
    "##### 5. Drop the instances having quantity less than zero. (1 point) (Note:- refer to the ‘Quantity’ feature)"
   ]
  },
  {
   "cell_type": "code",
   "execution_count": 6,
   "id": "c2767fdb",
   "metadata": {},
   "outputs": [
    {
     "name": "stdout",
     "output_type": "stream",
     "text": [
      "dropped instances with negative quantities\n"
     ]
    }
   ],
   "source": [
    "dataindex = df.index\n",
    "i = 0\n",
    "for num in df[\"Quantity\"]:\n",
    "    if num < 0 :\n",
    "        df.drop(dataindex[i])\n",
    "    else:\n",
    "        i += 1\n",
    "print(\"dropped instances with negative quantities\")"
   ]
  },
  {
   "cell_type": "markdown",
   "id": "0bd8f3e0",
   "metadata": {},
   "source": [
    "##### 6. Check unique values of the country and report the name of the country that has the highest number of instances/rows. (0.5 point)"
   ]
  },
  {
   "cell_type": "code",
   "execution_count": 7,
   "id": "4ea934c9",
   "metadata": {},
   "outputs": [
    {
     "name": "stdout",
     "output_type": "stream",
     "text": [
      "The country with highest number of instances is: United Kingdom\n"
     ]
    }
   ],
   "source": [
    "unique_countries = df[\"Country\"].unique()\n",
    "group_df = df.groupby(\"Country\")\n",
    "maxofgroup = int(group_df.size().max())\n",
    "\n",
    "for country in unique_countries:\n",
    "    currcount = group_df.get_group(country).count()[\"Country\"]\n",
    "    \n",
    "    if currcount == maxofgroup:\n",
    "        print(\"The country with highest number of instances is: \" + country)\n"
   ]
  },
  {
   "cell_type": "markdown",
   "id": "f45e824c",
   "metadata": {},
   "source": [
    "##### 7. Create a new column with the name as ‘sales’ having total sales. The total sales is defined as Quantity*UnitPrice. (1 point)"
   ]
  },
  {
   "cell_type": "code",
   "execution_count": 8,
   "id": "83193691",
   "metadata": {},
   "outputs": [
    {
     "data": {
      "text/html": [
       "<div>\n",
       "<style scoped>\n",
       "    .dataframe tbody tr th:only-of-type {\n",
       "        vertical-align: middle;\n",
       "    }\n",
       "\n",
       "    .dataframe tbody tr th {\n",
       "        vertical-align: top;\n",
       "    }\n",
       "\n",
       "    .dataframe thead th {\n",
       "        text-align: right;\n",
       "    }\n",
       "</style>\n",
       "<table border=\"1\" class=\"dataframe\">\n",
       "  <thead>\n",
       "    <tr style=\"text-align: right;\">\n",
       "      <th></th>\n",
       "      <th>InvoiceNo</th>\n",
       "      <th>StockCode</th>\n",
       "      <th>Description</th>\n",
       "      <th>Quantity</th>\n",
       "      <th>InvoiceDate</th>\n",
       "      <th>UnitPrice</th>\n",
       "      <th>CustomerID</th>\n",
       "      <th>Country</th>\n",
       "      <th>Sales</th>\n",
       "    </tr>\n",
       "  </thead>\n",
       "  <tbody>\n",
       "    <tr>\n",
       "      <th>0</th>\n",
       "      <td>536365</td>\n",
       "      <td>85123A</td>\n",
       "      <td>WHITE HANGING HEART T-LIGHT HOLDER</td>\n",
       "      <td>6</td>\n",
       "      <td>12/1/10 8:26</td>\n",
       "      <td>2.55</td>\n",
       "      <td>17850.0</td>\n",
       "      <td>United Kingdom</td>\n",
       "      <td>15.30</td>\n",
       "    </tr>\n",
       "    <tr>\n",
       "      <th>1</th>\n",
       "      <td>536365</td>\n",
       "      <td>71053</td>\n",
       "      <td>WHITE METAL LANTERN</td>\n",
       "      <td>6</td>\n",
       "      <td>12/1/10 8:26</td>\n",
       "      <td>3.39</td>\n",
       "      <td>17850.0</td>\n",
       "      <td>United Kingdom</td>\n",
       "      <td>20.34</td>\n",
       "    </tr>\n",
       "    <tr>\n",
       "      <th>2</th>\n",
       "      <td>536365</td>\n",
       "      <td>84406B</td>\n",
       "      <td>CREAM CUPID HEARTS COAT HANGER</td>\n",
       "      <td>8</td>\n",
       "      <td>12/1/10 8:26</td>\n",
       "      <td>2.75</td>\n",
       "      <td>17850.0</td>\n",
       "      <td>United Kingdom</td>\n",
       "      <td>22.00</td>\n",
       "    </tr>\n",
       "    <tr>\n",
       "      <th>3</th>\n",
       "      <td>536365</td>\n",
       "      <td>84029G</td>\n",
       "      <td>KNITTED UNION FLAG HOT WATER BOTTLE</td>\n",
       "      <td>6</td>\n",
       "      <td>12/1/10 8:26</td>\n",
       "      <td>3.39</td>\n",
       "      <td>17850.0</td>\n",
       "      <td>United Kingdom</td>\n",
       "      <td>20.34</td>\n",
       "    </tr>\n",
       "    <tr>\n",
       "      <th>4</th>\n",
       "      <td>536365</td>\n",
       "      <td>84029E</td>\n",
       "      <td>RED WOOLLY HOTTIE WHITE HEART.</td>\n",
       "      <td>6</td>\n",
       "      <td>12/1/10 8:26</td>\n",
       "      <td>3.39</td>\n",
       "      <td>17850.0</td>\n",
       "      <td>United Kingdom</td>\n",
       "      <td>20.34</td>\n",
       "    </tr>\n",
       "  </tbody>\n",
       "</table>\n",
       "</div>"
      ],
      "text/plain": [
       "  InvoiceNo StockCode                          Description  Quantity  \\\n",
       "0    536365    85123A   WHITE HANGING HEART T-LIGHT HOLDER         6   \n",
       "1    536365     71053                  WHITE METAL LANTERN         6   \n",
       "2    536365    84406B       CREAM CUPID HEARTS COAT HANGER         8   \n",
       "3    536365    84029G  KNITTED UNION FLAG HOT WATER BOTTLE         6   \n",
       "4    536365    84029E       RED WOOLLY HOTTIE WHITE HEART.         6   \n",
       "\n",
       "    InvoiceDate  UnitPrice  CustomerID         Country  Sales  \n",
       "0  12/1/10 8:26       2.55     17850.0  United Kingdom  15.30  \n",
       "1  12/1/10 8:26       3.39     17850.0  United Kingdom  20.34  \n",
       "2  12/1/10 8:26       2.75     17850.0  United Kingdom  22.00  \n",
       "3  12/1/10 8:26       3.39     17850.0  United Kingdom  20.34  \n",
       "4  12/1/10 8:26       3.39     17850.0  United Kingdom  20.34  "
      ]
     },
     "execution_count": 8,
     "metadata": {},
     "output_type": "execute_result"
    }
   ],
   "source": [
    "df[\"Sales\"] = df[\"Quantity\"] * df[\"UnitPrice\"]\n",
    "df.head(5)"
   ]
  },
  {
   "cell_type": "markdown",
   "id": "72d795b5",
   "metadata": {},
   "source": [
    "##### 8. Report the top 5 countries in terms of sales. (2 points)\n",
    "##### a. Consider the size of sales.\n",
    "##### b. Consider the mean value of sales.\n"
   ]
  },
  {
   "cell_type": "code",
   "execution_count": 16,
   "id": "03142cc8",
   "metadata": {},
   "outputs": [
    {
     "name": "stdout",
     "output_type": "stream",
     "text": [
      "Top 5 countries in size of sales : \n",
      "dict_keys(['United Kingdom', 'Japan', 'Singapore', 'EIRE', 'Netherlands'])\n"
     ]
    }
   ],
   "source": [
    "import operator\n",
    "sales = {}\n",
    "mean_sales = {}\n",
    "for country in unique_countries:\n",
    "    maxsale = group_df.get_group(country).max()[\"Sales\"]\n",
    "    sales[country] = maxsale\n",
    "print(\"Top 5 countries in size of sales : \")\n",
    "highestsales = dict(sorted(sales.items(), key=operator.itemgetter(1), reverse=True)[:5])\n",
    "print(highestsales.keys())\n"
   ]
  },
  {
   "cell_type": "code",
   "execution_count": 15,
   "id": "27e760fd",
   "metadata": {},
   "outputs": [
    {
     "name": "stdout",
     "output_type": "stream",
     "text": [
      "Top 5 countries in mean value of sales : \n",
      "dict_keys(['Australia', 'Netherlands', 'Japan', 'Sweden', 'Denmark'])\n"
     ]
    },
    {
     "name": "stderr",
     "output_type": "stream",
     "text": [
      "C:\\Users\\shaur\\AppData\\Local\\Temp/ipykernel_12728/3722523413.py:3: FutureWarning: Dropping of nuisance columns in DataFrame reductions (with 'numeric_only=None') is deprecated; in a future version this will raise TypeError.  Select only valid columns before calling the reduction.\n",
      "  meansale = group_df.get_group(country).mean()[\"Sales\"]\n"
     ]
    }
   ],
   "source": [
    "mean_sales = {}\n",
    "for country in unique_countries:\n",
    "    meansale = group_df.get_group(country).mean()[\"Sales\"]\n",
    "    mean_sales[country] = meansale\n",
    "print(\"Top 5 countries in mean value of sales : \")\n",
    "highestmeans = dict(sorted(mean_sales.items(), key=operator.itemgetter(1), reverse=True)[:5])\n",
    "print(highestmeans.keys())"
   ]
  },
  {
   "cell_type": "markdown",
   "id": "df9f4cf4",
   "metadata": {},
   "source": [
    "##### 9. Report the top 5 products which bring the highest sales. Use StockCode for product information. (1 point)"
   ]
  },
  {
   "cell_type": "code",
   "execution_count": 17,
   "id": "051977f6",
   "metadata": {},
   "outputs": [
    {
     "name": "stdout",
     "output_type": "stream",
     "text": [
      "Top 5 products which bring in the highest sales: \n",
      "61619     23166\n",
      "222680    22502\n",
      "173382     POST\n",
      "52711     21108\n",
      "160546    21108\n",
      "Name: StockCode, dtype: object\n"
     ]
    }
   ],
   "source": [
    "print(\"Top 5 products which bring in the highest sales: \")\n",
    "print(df.nlargest(5, 'Sales')['StockCode'])"
   ]
  },
  {
   "cell_type": "markdown",
   "id": "5f6cd9fe",
   "metadata": {},
   "source": [
    "##### 10. Convert the ‘InvoiceDate’ into a date format and report the month on which the maximum sales occur? (2 points)"
   ]
  },
  {
   "cell_type": "code",
   "execution_count": 53,
   "id": "761777dc",
   "metadata": {},
   "outputs": [
    {
     "name": "stdout",
     "output_type": "stream",
     "text": [
      "May\n"
     ]
    }
   ],
   "source": [
    "from datetime import datetime\n",
    "\n",
    "month_sale = {}\n",
    "dataindex = df.index\n",
    "i = 0\n",
    "for date in df[\"InvoiceDate\"]:\n",
    "    datetime_obj = datetime.strptime(date, '%m/%d/%y %H:%M')\n",
    "    month = datetime_obj.strftime(\"%B\")\n",
    "    month_sale[month] = df['Sales'][dataindex[i]]\n",
    "    i+=1\n",
    "\n",
    "Keymax = max(month_sale, key= lambda x: month_sale[x])\n",
    "print(Keymax)\n",
    "\n",
    "\n",
    "\n"
   ]
  },
  {
   "cell_type": "code",
   "execution_count": null,
   "id": "ce5f0e46",
   "metadata": {},
   "outputs": [],
   "source": []
  }
 ],
 "metadata": {
  "kernelspec": {
   "display_name": "Python 3 (ipykernel)",
   "language": "python",
   "name": "python3"
  },
  "language_info": {
   "codemirror_mode": {
    "name": "ipython",
    "version": 3
   },
   "file_extension": ".py",
   "mimetype": "text/x-python",
   "name": "python",
   "nbconvert_exporter": "python",
   "pygments_lexer": "ipython3",
   "version": "3.9.6"
  }
 },
 "nbformat": 4,
 "nbformat_minor": 5
}
